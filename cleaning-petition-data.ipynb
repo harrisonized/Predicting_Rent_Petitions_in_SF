{
 "cells": [
  {
   "cell_type": "code",
   "execution_count": 1,
   "metadata": {},
   "outputs": [],
   "source": [
    "import numpy as np\n",
    "import pandas as pd\n",
    "import matplotlib.dates as mdates\n",
    "import datetime as dt\n",
    "import warnings # Turn off warnings\n",
    "warnings.filterwarnings('ignore')"
   ]
  },
  {
   "cell_type": "code",
   "execution_count": 2,
   "metadata": {},
   "outputs": [],
   "source": [
    "petition_df = pd.read_csv(\"/home/harrisonized/Data/SF Open Data/Petitions_to_the_Rent_Board.csv\") # Import"
   ]
  },
  {
   "cell_type": "code",
   "execution_count": 3,
   "metadata": {},
   "outputs": [],
   "source": [
    "# Rename some columns\n",
    "petition_df = petition_df.rename(columns = {'Date Filed': 'Date',\n",
    "                                             'Petition Source Zipcode': 'Zip Code',\n",
    "                                             'Neighborhoods - Analysis Boundaries': 'Neighborhood Names',\n",
    "                                             'Location': 'latlong',\n",
    "                                             'Analysis Neighborhoods': 'Neighborhood Number',\n",
    "                                             'Neighborhoods - Analysis Boundaries': 'Neighborhood Name'\n",
    "                                            }\n",
    "                                )\n",
    "\n",
    "# Reorder columns, drop 'Priority', 'Appeal ID' and 'Prop I Petition'\n",
    "petition_df = petition_df[['Date', 'Address', 'latlong', 'Zip Code',\n",
    "    'Neighborhood Number', 'Neighborhood Name', 'SF Find Neighborhoods',\n",
    "    'Current Police Districts', 'Current Supervisor Districts', 'Supervisor District',\n",
    "                           \n",
    "    'Petition ID',\n",
    "       \n",
    "    'Filing Party',\n",
    "    'Ground (landlord): Capital Improvement',\n",
    "    'Ground (landlord): Comparable Rents',\n",
    "    'Ground (landlord): Extension of Time for Capital Improvements',\n",
    "    'Ground (landlord): Intent to Withdraw (Ellis)',\n",
    "    'Ground (landlord): Other',\n",
    "    'Ground (landlord): Operating & Maintenance',\n",
    "    'Ground (landlord): Substantial Rehabilitation',\n",
    "    'Ground (landlord):  Costa-Hawkins',\n",
    "    'Ground (landlord):  Exemption',\n",
    "    'Ground (landlord): Rules and Regulations Section 1.21',\n",
    "    'Ground (landlord): Rules and Regulations Section 6.14',\n",
    "    'Ground (landlord): Rules and Regulations Section 6.15',\n",
    "    'Ground (landlord): SRO Hotel Vistor Policy Petition',\n",
    "    'Ground (landlord): Utility Passthrough Petition',\n",
    "    'Ground (landlord): Owner Move-In Disability Determination',\n",
    "    'Ground (landlord): Utility Passthrough Worksheet',\n",
    "    'Ground (landlord): Non-Comparable Rents',\n",
    "\n",
    "    'Ground (tenant): Decrease in Housing Services',\n",
    "    'Ground (tenant): Failure to Repair and Maintain',\n",
    "    'Ground (tenant): Passthrough Challenge',\n",
    "    'Ground (tenant): Summary Petition',\n",
    "    'Ground (tenant): Unlawful Rent Increase',\n",
    "    'Ground (tenant): Wrongful Eviction Report',\n",
    "    'Ground (tenant): Section 8 tenancy',\n",
    "    'Ground (tenant): SRO Hotel Vistor Policy Petition',\n",
    "    'Ground (tenant): Rules and Regulations Section 6.15',\n",
    "    'Ground (tenant): Other',\n",
    "    'Ground (tenant): Utility Passhtrough Hardship',\n",
    "    'Ground (tenant): Water Revenue Bond Passthrough Hardship',\n",
    "    'Ground (tenant): Capital Improvement Passthrough Hardship Petition',\n",
    "    'Ground (tenant): Wrongful Severance of Housing Service',\n",
    "    'Ground: Alternative Dispute Resolution', \n",
    "                           \n",
    "    ':@computed_region_fyvs_ahh9', ':@computed_region_p5aj_wyqh',\n",
    "    ':@computed_region_rxqg_mtj9', ':@computed_region_yftq_j783',\n",
    "    ':@computed_region_bh8s_q3mv']]\n",
    "\n",
    "# Clean up Zip Codes\n",
    "petition_df['Zip Code'] = petition_df['Zip Code'].replace('[-][0-9]{4}', '', regex=True)\n",
    "petition_df['Zip Code'] = petition_df['Zip Code'].str.extract('(\\d+)', expand=False)\n",
    "petition_df['Zip Code'] = petition_df['Zip Code'].apply(lambda x: np.int64(x) if not pd.isnull(x) else x)\n",
    "\n",
    "# Standardizing some of the fields\n",
    "petition_df['latlong'] = petition_df['latlong'].apply(lambda x: eval(x) if not pd.isnull(x) else x)\n",
    "petition_df['Datetime'] = petition_df['Date'].apply(lambda x : dt.datetime.strptime(x, \"%m/%d/%Y\"))\n",
    "petition_df['Timestamp'] = petition_df['Date'].apply(lambda x : mdates.datestr2num(x))\n",
    "\n",
    "# Getting extra coordinates\n",
    "petition_df['Latitude'] = petition_df['latlong'].apply(lambda x: x[0] if not pd.isnull(x) else x)\n",
    "petition_df['Longitude'] = petition_df['latlong'].apply(lambda x: x[1] if not pd.isnull(x) else x)\n",
    "\n",
    "# Add columns that include all the Petition IDs for mass petitions\n",
    "petition_merge_df = petition_df.merge(\n",
    "    petition_df.groupby(['Date', 'Address'])['Petition ID'] \\\n",
    "        .apply(list).to_frame('Petition ID List').reset_index(), on=['Date', 'Address'])\n",
    "\n",
    "# Drop duplicates\n",
    "petition_unique_df = petition_merge_df.drop(columns = ['Petition ID']) \\\n",
    "    .drop_duplicates(subset = ['Date', 'Address']).reset_index(drop = True)\n",
    "\n",
    "# Add list length\n",
    "petition_unique_df['Petition ID Len'] = petition_unique_df['Petition ID List'].map(len)"
   ]
  },
  {
   "cell_type": "code",
   "execution_count": 4,
   "metadata": {},
   "outputs": [],
   "source": [
    "petition_unique_df.to_csv(\"/home/harrisonized/Data/SF Open Data/Petitions_to_the_Rent_Board_unique.csv\", index=False) # Export"
   ]
  }
 ],
 "metadata": {
  "kernelspec": {
   "display_name": "Python 3",
   "language": "python",
   "name": "python3"
  },
  "language_info": {
   "codemirror_mode": {
    "name": "ipython",
    "version": 3
   },
   "file_extension": ".py",
   "mimetype": "text/x-python",
   "name": "python",
   "nbconvert_exporter": "python",
   "pygments_lexer": "ipython3",
   "version": "3.6.8"
  }
 },
 "nbformat": 4,
 "nbformat_minor": 2
}
