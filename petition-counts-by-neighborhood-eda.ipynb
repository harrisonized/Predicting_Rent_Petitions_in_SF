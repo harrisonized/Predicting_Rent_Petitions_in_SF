{
 "cells": [
  {
   "cell_type": "code",
   "execution_count": 1,
   "metadata": {},
   "outputs": [],
   "source": [
    "import matplotlib.pyplot as plt\n",
    "import matplotlib.dates as mdates\n",
    "import numpy as np\n",
    "import pandas as pd\n",
    "import datetime as dt\n",
    "import re\n",
    "from collections import Counter\n",
    "import math\n",
    "import warnings # Turn off warnings\n",
    "warnings.filterwarnings('ignore')"
   ]
  },
  {
   "cell_type": "markdown",
   "metadata": {},
   "source": [
    "# Imports"
   ]
  },
  {
   "cell_type": "code",
   "execution_count": 2,
   "metadata": {},
   "outputs": [],
   "source": [
    "petition_df = pd.read_csv(\"~/data/sf-open-data/petitions-clean.csv\") # 40749 rows\n",
    "petition_df['Datetime'] = petition_df['Date'].apply(lambda x : dt.datetime.strptime(x, \"%m/%d/%Y\"))\n",
    "petition_df['Timestamp'] = petition_df['Date'].apply(lambda x : mdates.datestr2num(x))"
   ]
  },
  {
   "cell_type": "code",
   "execution_count": 3,
   "metadata": {},
   "outputs": [],
   "source": [
    "unemployment_df = pd.read_csv(\"~/data/stlouisfed/CASANF0URN.csv\") # 352 rows\n",
    "unemployment_df = unemployment_df.rename(columns = {\"CASANF0URN\": \"Rate\"})\n",
    "unemployment_df['Datetime'] = unemployment_df['DATE'].apply(lambda x : dt.datetime.strptime(x, \"%Y-%m-%d\"))\n",
    "unemployment_df = unemployment_df.set_index(\"Datetime\").drop(columns = \"DATE\")"
   ]
  },
  {
   "cell_type": "markdown",
   "metadata": {},
   "source": [
    "# Duplicate Entries"
   ]
  },
  {
   "cell_type": "code",
   "execution_count": 4,
   "metadata": {},
   "outputs": [
    {
     "data": {
      "text/plain": [
       "78"
      ]
     },
     "execution_count": 4,
     "metadata": {},
     "output_type": "execute_result"
    }
   ],
   "source": [
    "max(petition_df['Petition ID Len'])"
   ]
  },
  {
   "cell_type": "code",
   "execution_count": 5,
   "metadata": {},
   "outputs": [
    {
     "data": {
      "text/html": [
       "<div>\n",
       "<style scoped>\n",
       "    .dataframe tbody tr th:only-of-type {\n",
       "        vertical-align: middle;\n",
       "    }\n",
       "\n",
       "    .dataframe tbody tr th {\n",
       "        vertical-align: top;\n",
       "    }\n",
       "\n",
       "    .dataframe thead th {\n",
       "        text-align: right;\n",
       "    }\n",
       "</style>\n",
       "<table border=\"1\" class=\"dataframe\">\n",
       "  <thead>\n",
       "    <tr style=\"text-align: right;\">\n",
       "      <th></th>\n",
       "      <th>Date</th>\n",
       "      <th>Address</th>\n",
       "      <th>latlong</th>\n",
       "      <th>Zip Code</th>\n",
       "      <th>Neighborhood Number</th>\n",
       "      <th>Neighborhood Name</th>\n",
       "      <th>SF Find Neighborhoods</th>\n",
       "      <th>Current Police Districts</th>\n",
       "      <th>Current Supervisor Districts</th>\n",
       "      <th>Supervisor District</th>\n",
       "      <th>...</th>\n",
       "      <th>:@computed_region_p5aj_wyqh</th>\n",
       "      <th>:@computed_region_rxqg_mtj9</th>\n",
       "      <th>:@computed_region_yftq_j783</th>\n",
       "      <th>:@computed_region_bh8s_q3mv</th>\n",
       "      <th>Datetime</th>\n",
       "      <th>Timestamp</th>\n",
       "      <th>Latitude</th>\n",
       "      <th>Longitude</th>\n",
       "      <th>Petition ID List</th>\n",
       "      <th>Petition ID Len</th>\n",
       "    </tr>\n",
       "  </thead>\n",
       "  <tbody>\n",
       "    <tr>\n",
       "      <th>8001</th>\n",
       "      <td>04/30/2015</td>\n",
       "      <td>600 Block Of Commercial Street</td>\n",
       "      <td>(37.79417305070332, -122.4038888305787)</td>\n",
       "      <td>94111.0</td>\n",
       "      <td>6.0</td>\n",
       "      <td>Chinatown</td>\n",
       "      <td>104.0</td>\n",
       "      <td>6.0</td>\n",
       "      <td>3.0</td>\n",
       "      <td>3.0</td>\n",
       "      <td>...</td>\n",
       "      <td>1.0</td>\n",
       "      <td>10.0</td>\n",
       "      <td>3.0</td>\n",
       "      <td>28860.0</td>\n",
       "      <td>2015-04-30</td>\n",
       "      <td>735718.0</td>\n",
       "      <td>37.794173</td>\n",
       "      <td>-122.403889</td>\n",
       "      <td>['T150888', 'T150831', 'T150842', 'T150821', '...</td>\n",
       "      <td>78</td>\n",
       "    </tr>\n",
       "  </tbody>\n",
       "</table>\n",
       "<p>1 rows × 54 columns</p>\n",
       "</div>"
      ],
      "text/plain": [
       "            Date                         Address  \\\n",
       "8001  04/30/2015  600 Block Of Commercial Street   \n",
       "\n",
       "                                      latlong  Zip Code  Neighborhood Number  \\\n",
       "8001  (37.79417305070332, -122.4038888305787)   94111.0                  6.0   \n",
       "\n",
       "     Neighborhood Name  SF Find Neighborhoods  Current Police Districts  \\\n",
       "8001         Chinatown                  104.0                       6.0   \n",
       "\n",
       "      Current Supervisor Districts  Supervisor District       ...         \\\n",
       "8001                           3.0                  3.0       ...          \n",
       "\n",
       "     :@computed_region_p5aj_wyqh  :@computed_region_rxqg_mtj9  \\\n",
       "8001                         1.0                         10.0   \n",
       "\n",
       "      :@computed_region_yftq_j783  :@computed_region_bh8s_q3mv   Datetime  \\\n",
       "8001                          3.0                      28860.0 2015-04-30   \n",
       "\n",
       "      Timestamp   Latitude   Longitude  \\\n",
       "8001   735718.0  37.794173 -122.403889   \n",
       "\n",
       "                                       Petition ID List  Petition ID Len  \n",
       "8001  ['T150888', 'T150831', 'T150842', 'T150821', '...               78  \n",
       "\n",
       "[1 rows x 54 columns]"
      ]
     },
     "execution_count": 5,
     "metadata": {},
     "output_type": "execute_result"
    }
   ],
   "source": [
    "petition_df[petition_df['Petition ID Len'] == 78]"
   ]
  },
  {
   "cell_type": "markdown",
   "metadata": {},
   "source": [
    "# Tenant vs Landlord"
   ]
  },
  {
   "cell_type": "code",
   "execution_count": 6,
   "metadata": {
    "scrolled": true
   },
   "outputs": [
    {
     "data": {
      "text/plain": [
       "tenant      28184\n",
       "landlord    12562\n",
       "Name: Filing Party, dtype: int64"
      ]
     },
     "execution_count": 6,
     "metadata": {},
     "output_type": "execute_result"
    }
   ],
   "source": [
    "petition_df['Filing Party'].value_counts()"
   ]
  },
  {
   "cell_type": "markdown",
   "metadata": {},
   "source": [
    "# Get Overall Distribution"
   ]
  },
  {
   "cell_type": "code",
   "execution_count": 7,
   "metadata": {
    "scrolled": true
   },
   "outputs": [
    {
     "ename": "NameError",
     "evalue": "name 'petition_day_count_df' is not defined",
     "output_type": "error",
     "traceback": [
      "\u001b[0;31m---------------------------------------------------------------------------\u001b[0m",
      "\u001b[0;31mNameError\u001b[0m                                 Traceback (most recent call last)",
      "\u001b[0;32m<ipython-input-7-9b48806b1997>\u001b[0m in \u001b[0;36m<module>\u001b[0;34m\u001b[0m\n\u001b[0;32m----> 1\u001b[0;31m \u001b[0mpetition_day_counts_df\u001b[0m \u001b[0;34m=\u001b[0m \u001b[0mpd\u001b[0m\u001b[0;34m.\u001b[0m\u001b[0mDataFrame\u001b[0m\u001b[0;34m(\u001b[0m\u001b[0mpetition_day_count_df\u001b[0m\u001b[0;34m[\u001b[0m\u001b[0;34m'Petition ID Len'\u001b[0m\u001b[0;34m]\u001b[0m\u001b[0;34m.\u001b[0m\u001b[0mvalue_counts\u001b[0m\u001b[0;34m(\u001b[0m\u001b[0;34m)\u001b[0m\u001b[0;34m.\u001b[0m\u001b[0msort_index\u001b[0m\u001b[0;34m(\u001b[0m\u001b[0;34m)\u001b[0m\u001b[0;34m)\u001b[0m\u001b[0;34m\u001b[0m\u001b[0;34m\u001b[0m\u001b[0m\n\u001b[0m\u001b[1;32m      2\u001b[0m \u001b[0mpetition_week_counts_df\u001b[0m \u001b[0;34m=\u001b[0m \u001b[0mpd\u001b[0m\u001b[0;34m.\u001b[0m\u001b[0mDataFrame\u001b[0m\u001b[0;34m(\u001b[0m\u001b[0mpetition_week_count_df\u001b[0m\u001b[0;34m[\u001b[0m\u001b[0;34m'Petition ID Len'\u001b[0m\u001b[0;34m]\u001b[0m\u001b[0;34m.\u001b[0m\u001b[0mvalue_counts\u001b[0m\u001b[0;34m(\u001b[0m\u001b[0;34m)\u001b[0m\u001b[0;34m.\u001b[0m\u001b[0msort_index\u001b[0m\u001b[0;34m(\u001b[0m\u001b[0;34m)\u001b[0m\u001b[0;34m)\u001b[0m\u001b[0;34m\u001b[0m\u001b[0;34m\u001b[0m\u001b[0m\n\u001b[1;32m      3\u001b[0m \u001b[0mpetition_month_counts_df\u001b[0m \u001b[0;34m=\u001b[0m \u001b[0mpd\u001b[0m\u001b[0;34m.\u001b[0m\u001b[0mDataFrame\u001b[0m\u001b[0;34m(\u001b[0m\u001b[0mpetition_month_count_df\u001b[0m\u001b[0;34m[\u001b[0m\u001b[0;34m'Petition ID Len'\u001b[0m\u001b[0;34m]\u001b[0m\u001b[0;34m.\u001b[0m\u001b[0mvalue_counts\u001b[0m\u001b[0;34m(\u001b[0m\u001b[0;34m)\u001b[0m\u001b[0;34m.\u001b[0m\u001b[0msort_index\u001b[0m\u001b[0;34m(\u001b[0m\u001b[0;34m)\u001b[0m\u001b[0;34m)\u001b[0m\u001b[0;34m\u001b[0m\u001b[0;34m\u001b[0m\u001b[0m\n",
      "\u001b[0;31mNameError\u001b[0m: name 'petition_day_count_df' is not defined"
     ]
    }
   ],
   "source": [
    "petition_day_counts_df = pd.DataFrame(petition_day_count_df['Petition ID Len'].value_counts().sort_index())\n",
    "petition_week_counts_df = pd.DataFrame(petition_week_count_df['Petition ID Len'].value_counts().sort_index())\n",
    "petition_month_counts_df = pd.DataFrame(petition_month_count_df['Petition ID Len'].value_counts().sort_index())"
   ]
  },
  {
   "cell_type": "code",
   "execution_count": null,
   "metadata": {
    "scrolled": true
   },
   "outputs": [],
   "source": [
    "petition_day_counts_df.plot(kind=\"line\", color='#1f77b4', figsize = (14,7), legend = None)\n",
    "plt.xlabel('Count', fontsize=16)\n",
    "plt.xlim(0, 50)\n",
    "plt.ylabel('Number of Entries', fontsize=16)\n",
    "plt.title('Petition Daily Counts', fontsize=24)\n",
    "plt.grid(True)\n",
    "plt.savefig(\"figures/counts/petitions-day-counts.png\", transparent=True, bbox_inches=\"tight\")\n",
    "\n",
    "petition_week_counts_df.plot(kind=\"line\", color='#1f77b4', figsize = (14,7), legend = None)\n",
    "plt.xlabel('Count', fontsize=16)\n",
    "plt.xlim(0, 80)\n",
    "plt.ylabel('Number of Entries', fontsize=16)\n",
    "plt.title('Petition Weekly Counts', fontsize=24)\n",
    "plt.grid(True)\n",
    "plt.savefig(\"figures/counts/petitions-week-counts.png\", transparent=True, bbox_inches=\"tight\")\n",
    "\n",
    "petition_month_counts_df.plot(kind=\"line\", color='#1f77b4', figsize = (14,7), legend = None)\n",
    "plt.xlabel('Count', fontsize=16)\n",
    "plt.xlim(0, 300)\n",
    "plt.ylabel('Number of Entries', fontsize=16)\n",
    "plt.title('Petition Monthly Counts', fontsize=24)\n",
    "plt.grid(True)\n",
    "plt.savefig(\"figures/counts/petitions-month-counts.png\", transparent=True, bbox_inches=\"tight\")"
   ]
  },
  {
   "cell_type": "markdown",
   "metadata": {},
   "source": [
    "# Check Granularity of Data"
   ]
  },
  {
   "cell_type": "code",
   "execution_count": null,
   "metadata": {},
   "outputs": [],
   "source": [
    "# Get count data by using groupby\n",
    "petition_day_count_df = petition_df[['Petition ID Len', 'Datetime']].groupby(pd.TimeGrouper(\"D\", key=\"Datetime\")).count()\n",
    "petition_week_count_df = petition_df[['Petition ID Len', 'Datetime']].groupby(pd.TimeGrouper(\"W\", key=\"Datetime\")).count()\n",
    "petition_month_count_df = petition_df[['Petition ID Len', 'Datetime']].groupby(pd.TimeGrouper(\"M\", key=\"Datetime\")).count()\n",
    "petition_year_count_df = petition_df[['Petition ID Len', 'Datetime']].groupby(pd.TimeGrouper(\"Y\", key=\"Datetime\")).count()"
   ]
  },
  {
   "cell_type": "code",
   "execution_count": null,
   "metadata": {
    "scrolled": true
   },
   "outputs": [],
   "source": [
    "# Day\n",
    "petition_day_count_df.plot(kind=\"line\", color='#1f77b4', figsize = (14,7), legend = None)\n",
    "plt.xlabel('Date', fontsize=16)\n",
    "plt.ylabel('Number of Petitions', fontsize=16)\n",
    "plt.title('Number of Petitions By Date', fontsize=24)\n",
    "plt.grid(True)\n",
    "plt.savefig(\"figures/eda/petitions-by-date.png\", transparent=True, bbox_inches=\"tight\")\n",
    "plt.show()\n",
    "\n",
    "# Week\n",
    "petition_week_count_df.plot(kind=\"line\", color='#1f77b4', figsize = (14,7), legend = None)\n",
    "plt.xlabel('Date', fontsize=16)\n",
    "plt.ylabel('Number', fontsize=16)\n",
    "plt.title('Number of Petitions By Date', fontsize=24)\n",
    "plt.grid(True)\n",
    "plt.savefig(\"figures/eda/petitions-by-week.png\", transparent=True, bbox_inches=\"tight\")\n",
    "plt.show()\n",
    "\n",
    "# Month\n",
    "petition_month_count_df.plot(kind=\"line\", color='#1f77b4', figsize = (14,7), legend = None)\n",
    "plt.xlim(dt.datetime(1996, 1, 1), dt.datetime(2019, 1, 1))\n",
    "plt.ylim(0, 250)\n",
    "plt.xlabel('Date', fontsize=16)\n",
    "plt.ylabel('Number of Petitions', fontsize=16)\n",
    "plt.title('Number of Petitions By Month', fontsize=24)\n",
    "plt.grid(True)\n",
    "plt.savefig(\"figures/eda/petitions-by-month.png\", transparent=True, bbox_inches=\"tight\")\n",
    "plt.show()\n",
    "\n",
    "# Year\n",
    "petition_year_count_df.plot(kind=\"line\", color='#1f77b4', figsize = (14,7), legend = None)\n",
    "plt.xlim(dt.datetime(1996, 1, 1), dt.datetime(2019, 1, 1))\n",
    "plt.xlabel('Date', fontsize=16)\n",
    "plt.ylabel('Number of Petitions', fontsize=16)\n",
    "plt.title('Number of Petitions By Year', fontsize=24)\n",
    "plt.grid(True)\n",
    "plt.savefig(\"figures/eda/petitions-by-year.png\", transparent=True, bbox_inches=\"tight\")\n",
    "plt.show()\n",
    "\n",
    "# Unemployment Month\n",
    "unemployment_df.plot(kind=\"line\", color='#1f77b4', figsize = (14,7), legend = None)\n",
    "plt.xlim(dt.datetime(1996, 1, 1), dt.datetime(2019, 1, 1))\n",
    "plt.ylim(10, 0)\n",
    "plt.xlabel('Date', fontsize=16)\n",
    "plt.ylabel('Unemployment Rate (%)', fontsize=16)\n",
    "plt.title('Unemployment Rate in San Francisco County', fontsize=24)\n",
    "plt.grid(True)\n",
    "plt.savefig(\"figures/eda/unemployment-by-month.png\", transparent=True, bbox_inches=\"tight\")\n",
    "plt.show()"
   ]
  },
  {
   "cell_type": "markdown",
   "metadata": {},
   "source": [
    "# Group By Neighborhoods"
   ]
  },
  {
   "cell_type": "code",
   "execution_count": null,
   "metadata": {
    "scrolled": true
   },
   "outputs": [],
   "source": [
    "# Generate a directory of neighborhoods\n",
    "neighborhood_dict = {}\n",
    "\n",
    "for i in range(1, 27):\n",
    "    neighborhood_dict[i] = petition_df[['Neighborhood Number', 'Neighborhood Name']] \\\n",
    "        [petition_df['Neighborhood Number'] == i].mode()['Neighborhood Name'][0]\n",
    "\n",
    "for i in range(28, 42):\n",
    "    neighborhood_dict[i] = petition_df[['Neighborhood Number', 'Neighborhood Name']] \\\n",
    "        [petition_df['Neighborhood Number'] == i].mode()['Neighborhood Name'][0]\n",
    "\n",
    "neighborhood_dict"
   ]
  },
  {
   "cell_type": "code",
   "execution_count": null,
   "metadata": {},
   "outputs": [],
   "source": [
    "neighborhood_dict[1].lower().replace(\" \", \"-\")"
   ]
  },
  {
   "cell_type": "code",
   "execution_count": null,
   "metadata": {
    "scrolled": true
   },
   "outputs": [],
   "source": [
    "# Check distribution of data over time by neighborhood number one by one\n",
    "\n",
    "for i in range(1, 27):\n",
    "    petition_df[petition_df['Neighborhood Number'] == i] \\\n",
    "        [['Petition ID Len', 'Datetime']] \\\n",
    "        .groupby(pd.TimeGrouper(\"M\", key=\"Datetime\")).count() \\\n",
    "        .plot(kind=\"line\", color='#1f77b4', figsize = (14,7), legend = None)\n",
    "    plt.xlim(dt.datetime(1996, 1, 1), dt.datetime(2019, 1, 1))\n",
    "    plt.xlabel('Date', fontsize=16)\n",
    "    plt.ylabel('Number of Petitions', fontsize=16)\n",
    "    plt.title('Number of Petitions for {}'.format(neighborhood_dict[i]), fontsize=24)\n",
    "    plt.grid(True)\n",
    "    plt.savefig(\"figures/neighborhood/petitions-for-neighborhood-{}.png\".format(i), transparent=True, bbox_inches=\"tight\")\n",
    "    \n",
    "# Check distribution of data over time by neighborhood number\n",
    "for i in range(28, 42):\n",
    "    petition_df[petition_df['Neighborhood Number'] == i] \\\n",
    "        [['Petition ID Len', 'Datetime']] \\\n",
    "        .groupby(pd.TimeGrouper(\"M\", key=\"Datetime\")).count() \\\n",
    "        .plot(kind=\"line\", color='#1f77b4', figsize = (14,7), legend = None)\n",
    "    plt.xlim(dt.datetime(1996, 1, 1), dt.datetime(2019, 1, 1))\n",
    "    plt.xlabel('Date', fontsize=16)\n",
    "    plt.ylabel('Number', fontsize=16)\n",
    "    plt.title('Number of Petitions By Date {}'.format(neighborhood_dict[i]), fontsize=24)\n",
    "    plt.grid(True)\n",
    "    plt.savefig(\"figures/neighborhood/petitions-for-neighborhood-{}.png\".format(i), transparent=True, bbox_inches=\"tight\")"
   ]
  },
  {
   "cell_type": "code",
   "execution_count": null,
   "metadata": {},
   "outputs": [],
   "source": [
    "# NA that has its own pattern\n",
    "print(neighborhood_dict[16])"
   ]
  },
  {
   "cell_type": "code",
   "execution_count": null,
   "metadata": {},
   "outputs": [],
   "source": [
    "# NAs that have bad data\n",
    "print(neighborhood_dict[15])\n",
    "print(neighborhood_dict[33])\n",
    "print(neighborhood_dict[40])"
   ]
  }
 ],
 "metadata": {
  "kernelspec": {
   "display_name": "Python 3",
   "language": "python",
   "name": "python3"
  },
  "language_info": {
   "codemirror_mode": {
    "name": "ipython",
    "version": 3
   },
   "file_extension": ".py",
   "mimetype": "text/x-python",
   "name": "python",
   "nbconvert_exporter": "python",
   "pygments_lexer": "ipython3",
   "version": "3.6.8"
  }
 },
 "nbformat": 4,
 "nbformat_minor": 2
}
